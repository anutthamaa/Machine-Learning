{
 "cells": [
  {
   "cell_type": "code",
   "execution_count": null,
   "id": "182150b7-76d7-43ab-9d62-0b5ed3f8950e",
   "metadata": {},
   "outputs": [],
   "source": []
  },
  {
   "cell_type": "markdown",
   "id": "611d6f7f-9966-4957-b816-3d4574fa7a94",
   "metadata": {
    "jp-MarkdownHeadingCollapsed": true,
    "tags": []
   },
   "source": [
    "#### MODEL 7"
   ]
  },
  {
   "cell_type": "code",
   "execution_count": 66,
   "id": "2d05b07f-0ec1-4ac7-b2b0-b46c8eafed8c",
   "metadata": {},
   "outputs": [
    {
     "name": "stdout",
     "output_type": "stream",
     "text": [
      "Training Accuracy Score: 0.863\n"
     ]
    }
   ],
   "source": [
    "#Dropping 'oldpeak' feature based on high p-value\n",
    "\n",
    "x_train_7 = x_train_6.drop(['oldpeak'], axis=1)\n",
    "train_as_7 = trainModel(lr,x_train_7,y_train)\n",
    "print('Training Accuracy Score:', train_as_7)"
   ]
  },
  {
   "cell_type": "code",
   "execution_count": 67,
   "id": "058eab9e-777d-442a-8e4e-28362ed9c828",
   "metadata": {},
   "outputs": [
    {
     "name": "stdout",
     "output_type": "stream",
     "text": [
      "Optimization terminated successfully.\n",
      "         Current function value: 0.289348\n",
      "         Iterations 8\n",
      "                           Logit Regression Results                           \n",
      "==============================================================================\n",
      "Dep. Variable:                 target   No. Observations:                  226\n",
      "Model:                          Logit   Df Residuals:                      210\n",
      "Method:                           MLE   Df Model:                           15\n",
      "Date:                Fri, 09 Dec 2022   Pseudo R-squ.:                  0.5802\n",
      "Time:                        22:04:29   Log-Likelihood:                -65.393\n",
      "converged:                       True   LL-Null:                       -155.77\n",
      "Covariance Type:            nonrobust   LLR p-value:                 1.682e-30\n",
      "==============================================================================\n",
      "                 coef    std err          z      P>|z|      [0.025      0.975]\n",
      "------------------------------------------------------------------------------\n",
      "age            0.4906      0.270      1.816      0.069      -0.039       1.020\n",
      "sex           -0.8247      0.301     -2.743      0.006      -1.414      -0.235\n",
      "trestbps      -0.6504      0.256     -2.541      0.011      -1.152      -0.149\n",
      "chol          -0.2077      0.265     -0.782      0.434      -0.728       0.313\n",
      "fbs            0.3040      0.250      1.218      0.223      -0.185       0.793\n",
      "thalach        0.5279      0.321      1.646      0.100      -0.101       1.157\n",
      "exang         -0.4190      0.252     -1.666      0.096      -0.912       0.074\n",
      "cp_1           0.7220      0.615      1.173      0.241      -0.484       1.928\n",
      "cp_2           2.1811      0.576      3.784      0.000       1.051       3.311\n",
      "cp_3           2.0275      0.772      2.626      0.009       0.514       3.541\n",
      "restecg_1      0.6313      0.418      1.510      0.131      -0.188       1.451\n",
      "slope_2        1.8722      0.485      3.863      0.000       0.922       2.822\n",
      "ca_1          -3.0142      0.633     -4.759      0.000      -4.256      -1.773\n",
      "ca_2          -3.9999      0.941     -4.249      0.000      -5.845      -2.155\n",
      "ca_3          -2.6397      1.007     -2.622      0.009      -4.613      -0.667\n",
      "thal_3        -1.5821      0.465     -3.399      0.001      -2.494      -0.670\n",
      "==============================================================================\n"
     ]
    }
   ],
   "source": [
    "statsModel(y_train,x_train_7)"
   ]
  },
  {
   "cell_type": "markdown",
   "id": "a47b389b-f905-4b91-b25a-4650468ea784",
   "metadata": {
    "jp-MarkdownHeadingCollapsed": true,
    "tags": []
   },
   "source": [
    "#### MODEL 8"
   ]
  },
  {
   "cell_type": "code",
   "execution_count": 68,
   "id": "0e25bc84-028d-4f46-b430-6645a4b2774b",
   "metadata": {},
   "outputs": [
    {
     "name": "stdout",
     "output_type": "stream",
     "text": [
      "Training Accuracy Score: 0.863\n"
     ]
    }
   ],
   "source": [
    "#Dropping 'fbs' feature based on high p-value\n",
    "\n",
    "x_train_8 = x_train_7.drop(['fbs'], axis=1)\n",
    "train_as_8 = trainModel(lr,x_train_8,y_train)\n",
    "print('Training Accuracy Score:', train_as_8)"
   ]
  },
  {
   "cell_type": "code",
   "execution_count": 69,
   "id": "f5fd97ac-6a4c-40e3-8314-55878f8b2916",
   "metadata": {
    "tags": []
   },
   "outputs": [
    {
     "name": "stdout",
     "output_type": "stream",
     "text": [
      "Optimization terminated successfully.\n",
      "         Current function value: 0.292749\n",
      "         Iterations 8\n",
      "                           Logit Regression Results                           \n",
      "==============================================================================\n",
      "Dep. Variable:                 target   No. Observations:                  226\n",
      "Model:                          Logit   Df Residuals:                      211\n",
      "Method:                           MLE   Df Model:                           14\n",
      "Date:                Fri, 09 Dec 2022   Pseudo R-squ.:                  0.5752\n",
      "Time:                        22:04:29   Log-Likelihood:                -66.161\n",
      "converged:                       True   LL-Null:                       -155.77\n",
      "Covariance Type:            nonrobust   LLR p-value:                 9.374e-31\n",
      "==============================================================================\n",
      "                 coef    std err          z      P>|z|      [0.025      0.975]\n",
      "------------------------------------------------------------------------------\n",
      "age            0.4770      0.271      1.758      0.079      -0.055       1.009\n",
      "sex           -0.7802      0.298     -2.615      0.009      -1.365      -0.196\n",
      "trestbps      -0.6114      0.250     -2.447      0.014      -1.101      -0.122\n",
      "chol          -0.1664      0.266     -0.627      0.531      -0.687       0.354\n",
      "thalach        0.5282      0.316      1.674      0.094      -0.090       1.147\n",
      "exang         -0.4189      0.253     -1.657      0.098      -0.914       0.077\n",
      "cp_1           0.7296      0.616      1.184      0.236      -0.478       1.937\n",
      "cp_2           2.2371      0.573      3.907      0.000       1.115       3.359\n",
      "cp_3           2.1456      0.763      2.812      0.005       0.650       3.641\n",
      "restecg_1      0.6255      0.416      1.504      0.132      -0.189       1.440\n",
      "slope_2        1.7782      0.471      3.773      0.000       0.854       2.702\n",
      "ca_1          -2.9288      0.622     -4.710      0.000      -4.148      -1.710\n",
      "ca_2          -3.9340      0.918     -4.288      0.000      -5.732      -2.136\n",
      "ca_3          -2.4766      0.968     -2.559      0.010      -4.373      -0.580\n",
      "thal_3        -1.6321      0.462     -3.533      0.000      -2.538      -0.727\n",
      "==============================================================================\n"
     ]
    }
   ],
   "source": [
    "statsModel(y_train,x_train_8)"
   ]
  },
  {
   "cell_type": "markdown",
   "id": "55e57c88-0b06-41ef-84c1-815a6727266c",
   "metadata": {
    "jp-MarkdownHeadingCollapsed": true,
    "tags": []
   },
   "source": [
    "#### MODEL 9"
   ]
  },
  {
   "cell_type": "code",
   "execution_count": 70,
   "id": "b28bf0b5-42aa-467a-915b-0ce909e14937",
   "metadata": {},
   "outputs": [
    {
     "name": "stdout",
     "output_type": "stream",
     "text": [
      "Training Accuracy Score: 0.863\n"
     ]
    }
   ],
   "source": [
    "#Dropping 'chol' feature based on high p-value\n",
    "\n",
    "x_train_9 = x_train_8.drop(['chol'], axis=1)\n",
    "train_as_9 = trainModel(lr,x_train_9,y_train)\n",
    "print('Training Accuracy Score:', train_as_9)"
   ]
  },
  {
   "cell_type": "code",
   "execution_count": 71,
   "id": "9d2c0962-21bd-4dc4-83c5-d7f2bcabf90f",
   "metadata": {
    "tags": []
   },
   "outputs": [
    {
     "name": "stdout",
     "output_type": "stream",
     "text": [
      "Optimization terminated successfully.\n",
      "         Current function value: 0.293593\n",
      "         Iterations 8\n",
      "                           Logit Regression Results                           \n",
      "==============================================================================\n",
      "Dep. Variable:                 target   No. Observations:                  226\n",
      "Model:                          Logit   Df Residuals:                      212\n",
      "Method:                           MLE   Df Model:                           13\n",
      "Date:                Fri, 09 Dec 2022   Pseudo R-squ.:                  0.5740\n",
      "Time:                        22:04:29   Log-Likelihood:                -66.352\n",
      "converged:                       True   LL-Null:                       -155.77\n",
      "Covariance Type:            nonrobust   LLR p-value:                 2.945e-31\n",
      "==============================================================================\n",
      "                 coef    std err          z      P>|z|      [0.025      0.975]\n",
      "------------------------------------------------------------------------------\n",
      "age            0.4537      0.267      1.702      0.089      -0.069       0.976\n",
      "sex           -0.7328      0.286     -2.560      0.010      -1.294      -0.172\n",
      "trestbps      -0.6242      0.249     -2.505      0.012      -1.112      -0.136\n",
      "thalach        0.4969      0.309      1.611      0.107      -0.108       1.102\n",
      "exang         -0.4214      0.250     -1.682      0.092      -0.912       0.070\n",
      "cp_1           0.7408      0.617      1.200      0.230      -0.469       1.950\n",
      "cp_2           2.2422      0.573      3.912      0.000       1.119       3.366\n",
      "cp_3           2.1261      0.756      2.812      0.005       0.644       3.608\n",
      "restecg_1      0.6577      0.411      1.599      0.110      -0.148       1.464\n",
      "slope_2        1.7797      0.472      3.769      0.000       0.854       2.705\n",
      "ca_1          -2.9353      0.625     -4.695      0.000      -4.161      -1.710\n",
      "ca_2          -3.9066      0.907     -4.309      0.000      -5.684      -2.130\n",
      "ca_3          -2.4856      0.961     -2.587      0.010      -4.369      -0.602\n",
      "thal_3        -1.6652      0.459     -3.631      0.000      -2.564      -0.766\n",
      "==============================================================================\n"
     ]
    }
   ],
   "source": [
    "statsModel(y_train,x_train_9)"
   ]
  },
  {
   "cell_type": "markdown",
   "id": "bccf5ebb-ec63-49af-8d3f-717ca2c64ea9",
   "metadata": {
    "jp-MarkdownHeadingCollapsed": true,
    "tags": []
   },
   "source": [
    "#### MODEL 10"
   ]
  },
  {
   "cell_type": "code",
   "execution_count": 72,
   "id": "213ab3f7-6ad6-480d-bdc8-a4a5c3b91f73",
   "metadata": {},
   "outputs": [
    {
     "name": "stdout",
     "output_type": "stream",
     "text": [
      "Training Accuracy Score: 0.858\n"
     ]
    }
   ],
   "source": [
    "#Dropping 'cp_1' feature based on high p-value\n",
    "\n",
    "x_train_10 = x_train_9.drop(['cp_1'], axis=1)\n",
    "train_as_10 = trainModel(lr,x_train_10,y_train)\n",
    "print('Training Accuracy Score:', train_as_10)"
   ]
  },
  {
   "cell_type": "code",
   "execution_count": 73,
   "id": "b747dcfa-b022-4d55-9cd5-3bbeb05d3426",
   "metadata": {
    "tags": []
   },
   "outputs": [
    {
     "name": "stdout",
     "output_type": "stream",
     "text": [
      "Optimization terminated successfully.\n",
      "         Current function value: 0.296924\n",
      "         Iterations 8\n",
      "                           Logit Regression Results                           \n",
      "==============================================================================\n",
      "Dep. Variable:                 target   No. Observations:                  226\n",
      "Model:                          Logit   Df Residuals:                      213\n",
      "Method:                           MLE   Df Model:                           12\n",
      "Date:                Fri, 09 Dec 2022   Pseudo R-squ.:                  0.5692\n",
      "Time:                        22:04:29   Log-Likelihood:                -67.105\n",
      "converged:                       True   LL-Null:                       -155.77\n",
      "Covariance Type:            nonrobust   LLR p-value:                 1.513e-31\n",
      "==============================================================================\n",
      "                 coef    std err          z      P>|z|      [0.025      0.975]\n",
      "------------------------------------------------------------------------------\n",
      "age            0.4737      0.265      1.787      0.074      -0.046       0.993\n",
      "sex           -0.7728      0.286     -2.706      0.007      -1.333      -0.213\n",
      "trestbps      -0.6369      0.251     -2.535      0.011      -1.129      -0.144\n",
      "thalach        0.5703      0.303      1.879      0.060      -0.024       1.165\n",
      "exang         -0.4952      0.243     -2.039      0.041      -0.971      -0.019\n",
      "cp_2           2.0926      0.554      3.777      0.000       1.007       3.178\n",
      "cp_3           2.0076      0.746      2.692      0.007       0.546       3.469\n",
      "restecg_1      0.7447      0.404      1.845      0.065      -0.046       1.536\n",
      "slope_2        1.9189      0.460      4.173      0.000       1.018       2.820\n",
      "ca_1          -2.8590      0.623     -4.587      0.000      -4.081      -1.637\n",
      "ca_2          -3.9378      0.901     -4.372      0.000      -5.703      -2.172\n",
      "ca_3          -2.5241      0.959     -2.632      0.008      -4.404      -0.644\n",
      "thal_3        -1.6254      0.454     -3.577      0.000      -2.516      -0.735\n",
      "==============================================================================\n"
     ]
    }
   ],
   "source": [
    "statsModel(y_train,x_train_10)"
   ]
  },
  {
   "cell_type": "markdown",
   "id": "e7fcdcb6-fec4-4d62-99f9-eaaac27da6eb",
   "metadata": {
    "jp-MarkdownHeadingCollapsed": true,
    "tags": []
   },
   "source": [
    "#### MODEL 11"
   ]
  },
  {
   "cell_type": "code",
   "execution_count": 74,
   "id": "32aaebe9-d5c2-4bd0-bc1f-a6f7887658c5",
   "metadata": {},
   "outputs": [
    {
     "name": "stdout",
     "output_type": "stream",
     "text": [
      "Training Accuracy Score: 0.863\n"
     ]
    }
   ],
   "source": [
    "#Dropping 'age' feature based on high p-value\n",
    "\n",
    "x_train_11 = x_train_10.drop(['age'], axis=1)\n",
    "train_as_11 = trainModel(lr,x_train_11,y_train)\n",
    "print('Training Accuracy Score:', train_as_11)"
   ]
  },
  {
   "cell_type": "code",
   "execution_count": 75,
   "id": "58f299e8-5805-458a-9447-26d4eaa0ee3c",
   "metadata": {
    "tags": []
   },
   "outputs": [
    {
     "name": "stdout",
     "output_type": "stream",
     "text": [
      "Optimization terminated successfully.\n",
      "         Current function value: 0.304298\n",
      "         Iterations 8\n",
      "                           Logit Regression Results                           \n",
      "==============================================================================\n",
      "Dep. Variable:                 target   No. Observations:                  226\n",
      "Model:                          Logit   Df Residuals:                      214\n",
      "Method:                           MLE   Df Model:                           11\n",
      "Date:                Fri, 09 Dec 2022   Pseudo R-squ.:                  0.5585\n",
      "Time:                        22:04:30   Log-Likelihood:                -68.771\n",
      "converged:                       True   LL-Null:                       -155.77\n",
      "Covariance Type:            nonrobust   LLR p-value:                 1.781e-31\n",
      "==============================================================================\n",
      "                 coef    std err          z      P>|z|      [0.025      0.975]\n",
      "------------------------------------------------------------------------------\n",
      "sex           -0.8050      0.279     -2.886      0.004      -1.352      -0.258\n",
      "trestbps      -0.5191      0.235     -2.210      0.027      -0.980      -0.059\n",
      "thalach        0.4295      0.291      1.478      0.139      -0.140       0.999\n",
      "exang         -0.4880      0.237     -2.062      0.039      -0.952      -0.024\n",
      "cp_2           2.0653      0.556      3.713      0.000       0.975       3.156\n",
      "cp_3           1.9947      0.720      2.770      0.006       0.583       3.406\n",
      "restecg_1      0.6896      0.397      1.737      0.082      -0.089       1.468\n",
      "slope_2        1.8427      0.452      4.077      0.000       0.957       2.729\n",
      "ca_1          -2.5612      0.589     -4.346      0.000      -3.716      -1.406\n",
      "ca_2          -3.5596      0.853     -4.175      0.000      -5.231      -1.888\n",
      "ca_3          -2.1564      0.950     -2.269      0.023      -4.019      -0.294\n",
      "thal_3        -1.6101      0.445     -3.621      0.000      -2.482      -0.739\n",
      "==============================================================================\n"
     ]
    }
   ],
   "source": [
    "statsModel(y_train,x_train_11)"
   ]
  },
  {
   "cell_type": "markdown",
   "id": "c178acf1-26a5-4f91-8b71-77caaf59e1eb",
   "metadata": {
    "jp-MarkdownHeadingCollapsed": true,
    "tags": []
   },
   "source": [
    "#### MODEL 12"
   ]
  },
  {
   "cell_type": "code",
   "execution_count": 76,
   "id": "6b2d3a78-f5bd-4388-bc0a-c3868fdb7127",
   "metadata": {},
   "outputs": [
    {
     "name": "stdout",
     "output_type": "stream",
     "text": [
      "Training Accuracy Score: 0.85\n"
     ]
    }
   ],
   "source": [
    "#Dropping 'thalach' feature based on high p-value\n",
    "\n",
    "x_train_12 = x_train_11.drop('thalach', axis=1)\n",
    "train_as_12 = trainModel(lr,x_train_12,y_train)\n",
    "print('Training Accuracy Score:', train_as_12)"
   ]
  },
  {
   "cell_type": "code",
   "execution_count": 77,
   "id": "4e57283f-60e3-4679-9f1a-495654065bd7",
   "metadata": {
    "tags": []
   },
   "outputs": [
    {
     "name": "stdout",
     "output_type": "stream",
     "text": [
      "Optimization terminated successfully.\n",
      "         Current function value: 0.309301\n",
      "         Iterations 8\n",
      "                           Logit Regression Results                           \n",
      "==============================================================================\n",
      "Dep. Variable:                 target   No. Observations:                  226\n",
      "Model:                          Logit   Df Residuals:                      215\n",
      "Method:                           MLE   Df Model:                           10\n",
      "Date:                Fri, 09 Dec 2022   Pseudo R-squ.:                  0.5512\n",
      "Time:                        22:04:30   Log-Likelihood:                -69.902\n",
      "converged:                       True   LL-Null:                       -155.77\n",
      "Covariance Type:            nonrobust   LLR p-value:                 1.218e-31\n",
      "==============================================================================\n",
      "                 coef    std err          z      P>|z|      [0.025      0.975]\n",
      "------------------------------------------------------------------------------\n",
      "sex           -0.7391      0.272     -2.715      0.007      -1.273      -0.205\n",
      "trestbps      -0.5117      0.237     -2.160      0.031      -0.976      -0.047\n",
      "exang         -0.5944      0.225     -2.637      0.008      -1.036      -0.153\n",
      "cp_2           2.1006      0.554      3.794      0.000       1.015       3.186\n",
      "cp_3           2.0120      0.723      2.782      0.005       0.595       3.429\n",
      "restecg_1      0.6976      0.391      1.784      0.074      -0.069       1.464\n",
      "slope_2        1.9949      0.438      4.558      0.000       1.137       2.853\n",
      "ca_1          -2.6847      0.588     -4.566      0.000      -3.837      -1.532\n",
      "ca_2          -3.5089      0.848     -4.139      0.000      -5.170      -1.847\n",
      "ca_3          -2.3925      0.941     -2.543      0.011      -4.237      -0.549\n",
      "thal_3        -1.6709      0.441     -3.790      0.000      -2.535      -0.807\n",
      "==============================================================================\n"
     ]
    }
   ],
   "source": [
    "statsModel(y_train,x_train_12)"
   ]
  },
  {
   "cell_type": "markdown",
   "id": "326d01d0-81ac-4cb7-9e6b-73ea2fb0bb0c",
   "metadata": {
    "tags": []
   },
   "source": [
    "#### MODEL 13"
   ]
  },
  {
   "cell_type": "code",
   "execution_count": 78,
   "id": "82b1d883-9c14-4741-9e0c-3a0ca41390c8",
   "metadata": {},
   "outputs": [
    {
     "name": "stdout",
     "output_type": "stream",
     "text": [
      "Training Accuracy Score: 0.845\n"
     ]
    }
   ],
   "source": [
    "#Dropping 'trestbps' feature based on high p-value\n",
    "\n",
    "x_train_13 = x_train_12.drop('trestbps', axis=1)\n",
    "train_as_13 = trainModel(lr,x_train_13,y_train)\n",
    "print('Training Accuracy Score:', train_as_13)"
   ]
  },
  {
   "cell_type": "code",
   "execution_count": 79,
   "id": "233e30aa-cec6-4797-958b-9a0bc7fa0641",
   "metadata": {},
   "outputs": [
    {
     "data": {
      "text/html": [
       "<div>\n",
       "<style scoped>\n",
       "    .dataframe tbody tr th:only-of-type {\n",
       "        vertical-align: middle;\n",
       "    }\n",
       "\n",
       "    .dataframe tbody tr th {\n",
       "        vertical-align: top;\n",
       "    }\n",
       "\n",
       "    .dataframe thead th {\n",
       "        text-align: right;\n",
       "    }\n",
       "</style>\n",
       "<table border=\"1\" class=\"dataframe\">\n",
       "  <thead>\n",
       "    <tr style=\"text-align: right;\">\n",
       "      <th></th>\n",
       "      <th>Features</th>\n",
       "      <th>VIF</th>\n",
       "    </tr>\n",
       "  </thead>\n",
       "  <tbody>\n",
       "    <tr>\n",
       "      <th>4</th>\n",
       "      <td>restecg_1</td>\n",
       "      <td>1.75</td>\n",
       "    </tr>\n",
       "    <tr>\n",
       "      <th>9</th>\n",
       "      <td>thal_3</td>\n",
       "      <td>1.70</td>\n",
       "    </tr>\n",
       "    <tr>\n",
       "      <th>5</th>\n",
       "      <td>slope_2</td>\n",
       "      <td>1.68</td>\n",
       "    </tr>\n",
       "    <tr>\n",
       "      <th>2</th>\n",
       "      <td>cp_2</td>\n",
       "      <td>1.54</td>\n",
       "    </tr>\n",
       "    <tr>\n",
       "      <th>6</th>\n",
       "      <td>ca_1</td>\n",
       "      <td>1.31</td>\n",
       "    </tr>\n",
       "    <tr>\n",
       "      <th>1</th>\n",
       "      <td>exang</td>\n",
       "      <td>1.21</td>\n",
       "    </tr>\n",
       "    <tr>\n",
       "      <th>7</th>\n",
       "      <td>ca_2</td>\n",
       "      <td>1.20</td>\n",
       "    </tr>\n",
       "    <tr>\n",
       "      <th>0</th>\n",
       "      <td>sex</td>\n",
       "      <td>1.17</td>\n",
       "    </tr>\n",
       "    <tr>\n",
       "      <th>8</th>\n",
       "      <td>ca_3</td>\n",
       "      <td>1.12</td>\n",
       "    </tr>\n",
       "    <tr>\n",
       "      <th>3</th>\n",
       "      <td>cp_3</td>\n",
       "      <td>1.11</td>\n",
       "    </tr>\n",
       "  </tbody>\n",
       "</table>\n",
       "</div>"
      ],
      "text/plain": [
       "    Features   VIF\n",
       "4  restecg_1  1.75\n",
       "9     thal_3  1.70\n",
       "5    slope_2  1.68\n",
       "2       cp_2  1.54\n",
       "6       ca_1  1.31\n",
       "1      exang  1.21\n",
       "7       ca_2  1.20\n",
       "0        sex  1.17\n",
       "8       ca_3  1.12\n",
       "3       cp_3  1.11"
      ]
     },
     "metadata": {},
     "output_type": "display_data"
    }
   ],
   "source": [
    "calculateVIF(x_train_13)"
   ]
  },
  {
   "cell_type": "code",
   "execution_count": 80,
   "id": "a5e8d7e4-5dfd-486c-82d6-6a22c1f9eb38",
   "metadata": {
    "tags": []
   },
   "outputs": [
    {
     "name": "stdout",
     "output_type": "stream",
     "text": [
      "Optimization terminated successfully.\n",
      "         Current function value: 0.320199\n",
      "         Iterations 7\n",
      "                           Logit Regression Results                           \n",
      "==============================================================================\n",
      "Dep. Variable:                 target   No. Observations:                  226\n",
      "Model:                          Logit   Df Residuals:                      216\n",
      "Method:                           MLE   Df Model:                            9\n",
      "Date:                Fri, 09 Dec 2022   Pseudo R-squ.:                  0.5354\n",
      "Time:                        22:04:30   Log-Likelihood:                -72.365\n",
      "converged:                       True   LL-Null:                       -155.77\n",
      "Covariance Type:            nonrobust   LLR p-value:                 2.861e-31\n",
      "==============================================================================\n",
      "                 coef    std err          z      P>|z|      [0.025      0.975]\n",
      "------------------------------------------------------------------------------\n",
      "sex           -0.6178      0.255     -2.422      0.015      -1.118      -0.118\n",
      "exang         -0.6315      0.222     -2.847      0.004      -1.066      -0.197\n",
      "cp_2           2.0159      0.548      3.681      0.000       0.943       3.089\n",
      "cp_3           1.7008      0.668      2.548      0.011       0.392       3.009\n",
      "restecg_1      0.8128      0.385      2.114      0.035       0.059       1.566\n",
      "slope_2        1.9574      0.439      4.464      0.000       1.098       2.817\n",
      "ca_1          -2.5926      0.571     -4.540      0.000      -3.712      -1.473\n",
      "ca_2          -3.4670      0.831     -4.172      0.000      -5.096      -1.838\n",
      "ca_3          -2.3192      0.914     -2.539      0.011      -4.110      -0.529\n",
      "thal_3        -1.6535      0.426     -3.882      0.000      -2.488      -0.819\n",
      "==============================================================================\n"
     ]
    }
   ],
   "source": [
    "statsModel(y_train,x_train_13)"
   ]
  }
 ],
 "metadata": {
  "kernelspec": {
   "display_name": "Python 3 (ipykernel)",
   "language": "python",
   "name": "python3"
  },
  "language_info": {
   "codemirror_mode": {
    "name": "ipython",
    "version": 3
   },
   "file_extension": ".py",
   "mimetype": "text/x-python",
   "name": "python",
   "nbconvert_exporter": "python",
   "pygments_lexer": "ipython3",
   "version": "3.9.12"
  }
 },
 "nbformat": 4,
 "nbformat_minor": 5
}
